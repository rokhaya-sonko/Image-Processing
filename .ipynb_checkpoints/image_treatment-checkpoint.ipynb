{
 "cells": [
  {
   "cell_type": "markdown",
   "metadata": {},
   "source": [
    "---\n",
    "###### This notebook discusses the techniques of image processing based on the modification of histograms. These methods are part of the class of so-called spot treatments: the value of each pixel is corrected, independently of the other pixels.\n",
    "---\n"
   ]
  },
  {
   "cell_type": "code",
   "execution_count": 3,
   "metadata": {},
   "outputs": [
    {
     "data": {
      "image/png": "[encoded data removed]",
      "text/plain": [
       "<Figure size 432x288 with 1 Axes>"
      ]
     },
     "metadata": {},
     "output_type": "display_data"
    }
   ],
   "source": [
    "import matplotlib.pyplot as plt\n",
    "import numpy as np\n",
    "from PIL import Image\n",
    "\n",
    "# Charger l'image comme matrice de pixels\n",
    "img = np.array(Image.open('simba.png'))\n",
    "\n",
    "# Générer et afficher l'histogramme\n",
    "# Pour le normaliser : argument density=True dans plt.hist\n",
    "# Pour avoir l'histogramme cumulé : argument cumulative=True\n",
    "n, bins, patches = plt.hist(img.flatten(), bins=range(256))\n",
    "plt.savefig('hist_simba.png')\n"
   ]
  },
  {
   "cell_type": "markdown",
   "metadata": {},
   "source": [
    "#### The Image and the correspondant histogram"
   ]
  },
  {
   "cell_type": "markdown",
   "metadata": {},
   "source": [
    "<table><tr>\n",
    "<td> <img src=\"simba.png\" alt=\"Drawing\" style=\"width: 250px;\"/> </td>\n",
    "<td> <img src=\"hist_simba.png\" alt=\"Drawing\" style=\"width: 250px;\"/> </td>\n",
    "</tr></table>"
   ]
  },
  {
   "cell_type": "markdown",
   "metadata": {},
   "source": [
    "---\n",
    "\n",
    "This is a very important tool in image processing, as its modification makes it possible to adjust the dynamics of gray levels or colors in an image to make it more visually pleasing. Roughly, on the left are the black pixels, on the right the white pixels, and in the middle, all the shades of gray.\n",
    "\n",
    "---"
   ]
  },
  {
   "cell_type": "markdown",
   "metadata": {},
   "source": [
    "---\n",
    "Stretching of histograms\n",
    "---\n",
    "\n",
    "A first application is to correct the brightness, or exposure, of the image. Let's analyze the shape of the histograms for images whose exposure is bad."
   ]
  },
  {
   "cell_type": "code",
   "execution_count": 7,
   "metadata": {},
   "outputs": [
    {
     "data": {
      "image/png": "[encoded data removed]",
      "text/plain": [
       "<Figure size 432x288 with 1 Axes>"
      ]
     },
     "metadata": {},
     "output_type": "display_data"
    }
   ],
   "source": [
    "# Charger l'image comme matrice de pixels\n",
    "img2 = np.array(Image.open('simba_sousexp.png'))\n",
    "\n",
    "# Générer et afficher l'histogramme\n",
    "# Pour le normaliser : argument density=True dans plt.hist\n",
    "# Pour avoir l'histogramme cumulé : argument cumulative=True\n",
    "n, bins, patches = plt.hist(img2.flatten(), bins=range(256))\n",
    "plt.savefig('hist_simba_sousexp.png')"
   ]
  },
  {
   "cell_type": "markdown",
   "metadata": {},
   "source": [
    "#### The Image and the correspondant histogram"
   ]
  },
  {
   "cell_type": "markdown",
   "metadata": {},
   "source": [
    "<table><tr>\n",
    "<td> <img src=\"simba_sousexp.png\" alt=\"Drawing\" style=\"width: 250px;\"/> </td>\n",
    "<td> <img src=\"hist_simba_sousexp.png\" alt=\"Drawing\" style=\"width: 250px;\"/> </td>\n",
    "</tr></table>"
   ]
  },
  {
   "cell_type": "code",
   "execution_count": null,
   "metadata": {},
   "outputs": [],
   "source": []
  }
 ],
 "metadata": {
  "kernelspec": {
   "display_name": "Python 3",
   "language": "python",
   "name": "python3"
  },
  "language_info": {
   "codemirror_mode": {
    "name": "ipython",
    "version": 3
   },
   "file_extension": ".py",
   "mimetype": "text/x-python",
   "name": "python",
   "nbconvert_exporter": "python",
   "pygments_lexer": "ipython3",
   "version": "3.6.5"
  }
 },
 "nbformat": 4,
 "nbformat_minor": 2
}
